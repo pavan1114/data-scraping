{
  "nbformat": 4,
  "nbformat_minor": 0,
  "metadata": {
    "colab": {
      "name": "Copy of Project 1",
      "provenance": [],
      "collapsed_sections": []
    },
    "kernelspec": {
      "name": "python3",
      "display_name": "Python 3"
    }
  },
  "cells": [
    {
      "cell_type": "code",
      "metadata": {
        "id": "qDdn0bcLnZ1N"
      },
      "source": [
        "import bs4 as bs\n",
        "import urllib.request as url_x\n",
        "import pandas as pd"
      ],
      "execution_count": null,
      "outputs": []
    },
    {
      "cell_type": "code",
      "metadata": {
        "id": "IT6QWpy_n3RJ"
      },
      "source": [
        "BusinesNames=[]\n",
        "Phone=[]\n",
        "address=[]\n",
        "\n",
        "url = \"https://www.yelp.com/search?cflt=restaurants&find_loc=San+Francisco%2C+CA\"\n",
        "\n",
        "urlsource=''+url+'&start='"
      ],
      "execution_count": null,
      "outputs": []
    },
    {
      "cell_type": "code",
      "metadata": {
        "colab": {
          "base_uri": "https://localhost:8080/"
        },
        "id": "ALmT5Hqbo8bk",
        "outputId": "c36ade31-1b1d-43de-e2fd-d1684634fb8f"
      },
      "source": [
        "no_of_pages=5\n",
        "for iteration in range(no_of_pages):\n",
        "  s=iteration*10\n",
        "  if(s==0):\n",
        "    s=1\n",
        "  source = url_x.urlopen(urlsource+str(s))\n",
        "  print(urlsource+str(s))\n",
        "\n",
        "  page_soup = bs.BeautifulSoup(source, 'html.parser')\n",
        "\n",
        "  mains = page_soup.find_all(\"span\", {\"class\": \" css-1pxmz4g\"})\n",
        "  for main in mains:\n",
        "      try:\n",
        "          busname = main.find(\"a\", {\"class\" : \"css-166la90\"}).text\n",
        "          BusinesNames.append(busname)\n",
        "      except:\n",
        "          print(\"Information not provided\")\n",
        "  print('Loading......')\n",
        "print('Done with processing...')"
      ],
      "execution_count": null,
      "outputs": [
        {
          "output_type": "stream",
          "text": [
            "https://www.yelp.com/search?cflt=restaurants&find_loc=San+Francisco%2C+CA&start=1\n",
            "Loading......\n",
            "https://www.yelp.com/search?cflt=restaurants&find_loc=San+Francisco%2C+CA&start=10\n",
            "Loading......\n",
            "https://www.yelp.com/search?cflt=restaurants&find_loc=San+Francisco%2C+CA&start=20\n",
            "Loading......\n",
            "https://www.yelp.com/search?cflt=restaurants&find_loc=San+Francisco%2C+CA&start=30\n",
            "Loading......\n",
            "https://www.yelp.com/search?cflt=restaurants&find_loc=San+Francisco%2C+CA&start=40\n",
            "Loading......\n",
            "Done with processing...\n"
          ],
          "name": "stdout"
        }
      ]
    },
    {
      "cell_type": "code",
      "metadata": {
        "colab": {
          "base_uri": "https://localhost:8080/"
        },
        "id": "gtvvnDOXsnHH",
        "outputId": "6c6e837d-14c4-430d-8f3a-2c9da244143d"
      },
      "source": [
        "BusinesNames"
      ],
      "execution_count": null,
      "outputs": [
        {
          "output_type": "execute_result",
          "data": {
            "text/plain": [
              "['Kitchen Story',\n",
              " 'Sweet Maple',\n",
              " 'Beretta',\n",
              " 'Marufuku Ramen SF',\n",
              " 'Farmhouse Kitchen Thai Cuisine',\n",
              " 'Starbelly',\n",
              " 'Zazie',\n",
              " 'Nopa',\n",
              " 'Jaranita',\n",
              " 'San Tung',\n",
              " 'San Tung',\n",
              " 'The Snug',\n",
              " 'Fog Harbor Fish House',\n",
              " 'Tastebuds',\n",
              " 'The Front Porch',\n",
              " 'Alnico',\n",
              " 'a Mano',\n",
              " 'Beretta Pop Up',\n",
              " 'Brenda’s Meat & Three',\n",
              " 'El Techo',\n",
              " 'Konomama',\n",
              " 'Cha Cha Cha',\n",
              " 'Beit Rima',\n",
              " 'Brenda’s French Soul Food',\n",
              " 'Brenda’s Meat & Three',\n",
              " 'Um Ma',\n",
              " 'Blind Butcher',\n",
              " 'Jaranita',\n",
              " 'Willkommen',\n",
              " 'That’s My Jam',\n",
              " 'Manna',\n",
              " 'Padrecito',\n",
              " 'Nopalito',\n",
              " 'Nara Restaurant & Sake Bar',\n",
              " 'Che Fico Alimentari',\n",
              " 'That’s My Jam',\n",
              " 'Konomama',\n",
              " 'Diamond Cafe',\n",
              " 'Blind Butcher',\n",
              " 'Brenda’s French Soul Food',\n",
              " 'Limon Rotisserie',\n",
              " 'San Tung',\n",
              " 'RT Rotisserie',\n",
              " 'L’Ardoise Bistro',\n",
              " 'Tacorea',\n",
              " 'Picaro',\n",
              " 'Foreign Cinema',\n",
              " 'Vive La Tarte',\n",
              " 'Berliner Berliner',\n",
              " 'Presidio Kebab']"
            ]
          },
          "metadata": {
            "tags": []
          },
          "execution_count": 4
        }
      ]
    },
    {
      "cell_type": "code",
      "metadata": {
        "colab": {
          "base_uri": "https://localhost:8080/"
        },
        "id": "iXEqUUpGImtU",
        "outputId": "2b754944-8d8a-45ee-dc94-3d3c37c96a34"
      },
      "source": [
        "Phone"
      ],
      "execution_count": null,
      "outputs": [
        {
          "output_type": "execute_result",
          "data": {
            "text/plain": [
              "[]"
            ]
          },
          "metadata": {
            "tags": []
          },
          "execution_count": 5
        }
      ]
    },
    {
      "cell_type": "code",
      "metadata": {
        "id": "CS523kmXaThR",
        "colab": {
          "base_uri": "https://localhost:8080/"
        },
        "outputId": "7559cfa8-540a-456c-bcea-1722d4c73927"
      },
      "source": [
        "address"
      ],
      "execution_count": null,
      "outputs": [
        {
          "output_type": "execute_result",
          "data": {
            "text/plain": [
              "[]"
            ]
          },
          "metadata": {
            "tags": []
          },
          "execution_count": 6
        }
      ]
    },
    {
      "cell_type": "code",
      "metadata": {
        "id": "QqMZPR8es4yn",
        "colab": {
          "base_uri": "https://localhost:8080/",
          "height": 212
        },
        "outputId": "5f1b9382-1ec5-46f1-b6b4-8f54a3fc4f38"
      },
      "source": [
        "dictionary = {'BusinessNames': BusinessNames, 'Phone': Phone, 'address':address} \n",
        "\n",
        "\n",
        "amul=pd.DataFrame(dict([(k,pd.Series(v)) for k,v in dictionary.items()]))"
      ],
      "execution_count": null,
      "outputs": [
        {
          "output_type": "error",
          "ename": "NameError",
          "evalue": "ignored",
          "traceback": [
            "\u001b[0;31m---------------------------------------------------------------------------\u001b[0m",
            "\u001b[0;31mNameError\u001b[0m                                 Traceback (most recent call last)",
            "\u001b[0;32m<ipython-input-11-5cff6a54b207>\u001b[0m in \u001b[0;36m<module>\u001b[0;34m()\u001b[0m\n\u001b[0;32m----> 1\u001b[0;31m \u001b[0mdictionary\u001b[0m \u001b[0;34m=\u001b[0m \u001b[0;34m{\u001b[0m\u001b[0;34m'BusinessNames'\u001b[0m\u001b[0;34m:\u001b[0m \u001b[0mBusinessNames\u001b[0m\u001b[0;34m,\u001b[0m \u001b[0;34m'Phone'\u001b[0m\u001b[0;34m:\u001b[0m \u001b[0mPhone\u001b[0m\u001b[0;34m}\u001b[0m\u001b[0;34m\u001b[0m\u001b[0;34m\u001b[0m\u001b[0m\n\u001b[0m\u001b[1;32m      2\u001b[0m \u001b[0;34m\u001b[0m\u001b[0m\n\u001b[1;32m      3\u001b[0m \u001b[0;34m\u001b[0m\u001b[0m\n\u001b[1;32m      4\u001b[0m \u001b[0mamul\u001b[0m\u001b[0;34m=\u001b[0m\u001b[0mpd\u001b[0m\u001b[0;34m.\u001b[0m\u001b[0mDataFrame\u001b[0m\u001b[0;34m(\u001b[0m\u001b[0mdict\u001b[0m\u001b[0;34m(\u001b[0m\u001b[0;34m[\u001b[0m\u001b[0;34m(\u001b[0m\u001b[0mk\u001b[0m\u001b[0;34m,\u001b[0m\u001b[0mpd\u001b[0m\u001b[0;34m.\u001b[0m\u001b[0mSeries\u001b[0m\u001b[0;34m(\u001b[0m\u001b[0mv\u001b[0m\u001b[0;34m)\u001b[0m\u001b[0;34m)\u001b[0m \u001b[0;32mfor\u001b[0m \u001b[0mk\u001b[0m\u001b[0;34m,\u001b[0m\u001b[0mv\u001b[0m \u001b[0;32min\u001b[0m \u001b[0mdictionary\u001b[0m\u001b[0;34m.\u001b[0m\u001b[0mitems\u001b[0m\u001b[0;34m(\u001b[0m\u001b[0;34m)\u001b[0m\u001b[0;34m]\u001b[0m\u001b[0;34m)\u001b[0m\u001b[0;34m)\u001b[0m\u001b[0;34m\u001b[0m\u001b[0;34m\u001b[0m\u001b[0m\n",
            "\u001b[0;31mNameError\u001b[0m: name 'BusinessNames' is not defined"
          ]
        }
      ]
    },
    {
      "cell_type": "code",
      "metadata": {
        "colab": {
          "base_uri": "https://localhost:8080/",
          "height": 1000
        },
        "id": "SgxXy2dFuB50",
        "outputId": "6bb057ca-9e9e-4b8c-f0db-fbc81b1b32ef"
      },
      "source": [
        "amul"
      ],
      "execution_count": null,
      "outputs": [
        {
          "output_type": "execute_result",
          "data": {
            "text/html": [
              "<div>\n",
              "<style scoped>\n",
              "    .dataframe tbody tr th:only-of-type {\n",
              "        vertical-align: middle;\n",
              "    }\n",
              "\n",
              "    .dataframe tbody tr th {\n",
              "        vertical-align: top;\n",
              "    }\n",
              "\n",
              "    .dataframe thead th {\n",
              "        text-align: right;\n",
              "    }\n",
              "</style>\n",
              "<table border=\"1\" class=\"dataframe\">\n",
              "  <thead>\n",
              "    <tr style=\"text-align: right;\">\n",
              "      <th></th>\n",
              "      <th>BusinessNames</th>\n",
              "      <th>Phone</th>\n",
              "    </tr>\n",
              "  </thead>\n",
              "  <tbody>\n",
              "    <tr>\n",
              "      <th>0</th>\n",
              "      <td>Marufuku Ramen SF</td>\n",
              "      <td>(415) 872-9786</td>\n",
              "    </tr>\n",
              "    <tr>\n",
              "      <th>1</th>\n",
              "      <td>Farmhouse Kitchen Thai Cuisine</td>\n",
              "      <td>(415) 814-2920</td>\n",
              "    </tr>\n",
              "    <tr>\n",
              "      <th>2</th>\n",
              "      <td>Kitchen Story</td>\n",
              "      <td>(415) 525-4905</td>\n",
              "    </tr>\n",
              "    <tr>\n",
              "      <th>3</th>\n",
              "      <td>Ken</td>\n",
              "      <td>252 Divisadero St</td>\n",
              "    </tr>\n",
              "    <tr>\n",
              "      <th>4</th>\n",
              "      <td>Fog Harbor Fish House</td>\n",
              "      <td>(415) 421-2442</td>\n",
              "    </tr>\n",
              "    <tr>\n",
              "      <th>5</th>\n",
              "      <td>Sweet Maple</td>\n",
              "      <td>(415) 655-9169</td>\n",
              "    </tr>\n",
              "    <tr>\n",
              "      <th>6</th>\n",
              "      <td>Starbelly</td>\n",
              "      <td>(415) 252-7500</td>\n",
              "    </tr>\n",
              "    <tr>\n",
              "      <th>7</th>\n",
              "      <td>Beretta</td>\n",
              "      <td>(415) 695-1199</td>\n",
              "    </tr>\n",
              "    <tr>\n",
              "      <th>8</th>\n",
              "      <td>Beretta Pop Up</td>\n",
              "      <td>(415) 654-5211</td>\n",
              "    </tr>\n",
              "    <tr>\n",
              "      <th>9</th>\n",
              "      <td>Tastebuds</td>\n",
              "      <td>(415) 668-9298</td>\n",
              "    </tr>\n",
              "    <tr>\n",
              "      <th>10</th>\n",
              "      <td>Tastebuds</td>\n",
              "      <td>(415) 668-9298</td>\n",
              "    </tr>\n",
              "    <tr>\n",
              "      <th>11</th>\n",
              "      <td>The Snug</td>\n",
              "      <td>(415) 562-5092</td>\n",
              "    </tr>\n",
              "    <tr>\n",
              "      <th>12</th>\n",
              "      <td>Zazie</td>\n",
              "      <td>(415) 564-5332</td>\n",
              "    </tr>\n",
              "    <tr>\n",
              "      <th>13</th>\n",
              "      <td>El Techo</td>\n",
              "      <td>(415) 550-6970</td>\n",
              "    </tr>\n",
              "    <tr>\n",
              "      <th>14</th>\n",
              "      <td>San Tung</td>\n",
              "      <td>(415) 242-0828</td>\n",
              "    </tr>\n",
              "    <tr>\n",
              "      <th>15</th>\n",
              "      <td>Santeria</td>\n",
              "      <td>(415) 757-0156</td>\n",
              "    </tr>\n",
              "    <tr>\n",
              "      <th>16</th>\n",
              "      <td>Nopa</td>\n",
              "      <td>(415) 864-8643</td>\n",
              "    </tr>\n",
              "    <tr>\n",
              "      <th>17</th>\n",
              "      <td>Hotbird</td>\n",
              "      <td>1355 Market St</td>\n",
              "    </tr>\n",
              "    <tr>\n",
              "      <th>18</th>\n",
              "      <td>The Front Porch</td>\n",
              "      <td>(415) 695-7800</td>\n",
              "    </tr>\n",
              "    <tr>\n",
              "      <th>19</th>\n",
              "      <td>Burma Superstar</td>\n",
              "      <td>(415) 387-2147</td>\n",
              "    </tr>\n",
              "    <tr>\n",
              "      <th>20</th>\n",
              "      <td>Devil’s Teeth Baking Company</td>\n",
              "      <td>(415) 683-5533</td>\n",
              "    </tr>\n",
              "    <tr>\n",
              "      <th>21</th>\n",
              "      <td>Brenda’s Meat &amp; Three</td>\n",
              "      <td>(415) 926-8657</td>\n",
              "    </tr>\n",
              "    <tr>\n",
              "      <th>22</th>\n",
              "      <td>The Bird</td>\n",
              "      <td>(415) 872-9825</td>\n",
              "    </tr>\n",
              "    <tr>\n",
              "      <th>23</th>\n",
              "      <td>Foghorn Taproom</td>\n",
              "      <td>(415) 592-2341</td>\n",
              "    </tr>\n",
              "    <tr>\n",
              "      <th>24</th>\n",
              "      <td>Damn Fine</td>\n",
              "      <td>3410 Judah St</td>\n",
              "    </tr>\n",
              "    <tr>\n",
              "      <th>25</th>\n",
              "      <td>Horsefeather</td>\n",
              "      <td>(415) 817-1939</td>\n",
              "    </tr>\n",
              "    <tr>\n",
              "      <th>26</th>\n",
              "      <td>a Mano</td>\n",
              "      <td>(415) 506-7401</td>\n",
              "    </tr>\n",
              "    <tr>\n",
              "      <th>27</th>\n",
              "      <td>Brenda’s French Soul Food</td>\n",
              "      <td>(415) 345-8100</td>\n",
              "    </tr>\n",
              "    <tr>\n",
              "      <th>28</th>\n",
              "      <td>Che Fico Alimentari</td>\n",
              "      <td>(415) 416-6980</td>\n",
              "    </tr>\n",
              "    <tr>\n",
              "      <th>29</th>\n",
              "      <td>MaMa Ji’s</td>\n",
              "      <td>(415) 626-4416</td>\n",
              "    </tr>\n",
              "    <tr>\n",
              "      <th>30</th>\n",
              "      <td>DragonEats</td>\n",
              "      <td>(415) 522-6689</td>\n",
              "    </tr>\n",
              "    <tr>\n",
              "      <th>31</th>\n",
              "      <td>Mahila</td>\n",
              "      <td>(628) 867-3570</td>\n",
              "    </tr>\n",
              "    <tr>\n",
              "      <th>32</th>\n",
              "      <td>Konomama</td>\n",
              "      <td>(415) 933-6295</td>\n",
              "    </tr>\n",
              "    <tr>\n",
              "      <th>33</th>\n",
              "      <td>Souvla</td>\n",
              "      <td>(415) 400-5458</td>\n",
              "    </tr>\n",
              "    <tr>\n",
              "      <th>34</th>\n",
              "      <td>Um Ma</td>\n",
              "      <td>(415) 566-5777</td>\n",
              "    </tr>\n",
              "    <tr>\n",
              "      <th>35</th>\n",
              "      <td>Señor Sisig</td>\n",
              "      <td>(855) 747-4455</td>\n",
              "    </tr>\n",
              "    <tr>\n",
              "      <th>36</th>\n",
              "      <td>Dumpling Baby China Bistro</td>\n",
              "      <td>(415) 592-8232</td>\n",
              "    </tr>\n",
              "    <tr>\n",
              "      <th>37</th>\n",
              "      <td>Blind Butcher</td>\n",
              "      <td>(415) 529-2478</td>\n",
              "    </tr>\n",
              "    <tr>\n",
              "      <th>38</th>\n",
              "      <td>State Bird Provisions</td>\n",
              "      <td>(415) 795-1272</td>\n",
              "    </tr>\n",
              "    <tr>\n",
              "      <th>39</th>\n",
              "      <td>Nara Restaurant &amp; Sake Bar</td>\n",
              "      <td>(415) 638-6124</td>\n",
              "    </tr>\n",
              "    <tr>\n",
              "      <th>40</th>\n",
              "      <td>Gozu</td>\n",
              "      <td>(415) 523-9745</td>\n",
              "    </tr>\n",
              "    <tr>\n",
              "      <th>41</th>\n",
              "      <td>Sotto Mare Oysteria &amp; Seafood</td>\n",
              "      <td>(415) 398-3181</td>\n",
              "    </tr>\n",
              "    <tr>\n",
              "      <th>42</th>\n",
              "      <td>Tacos El Patrón</td>\n",
              "      <td>(415) 829-7315</td>\n",
              "    </tr>\n",
              "    <tr>\n",
              "      <th>43</th>\n",
              "      <td>Cha Cha Cha</td>\n",
              "      <td>(415) 386-7670</td>\n",
              "    </tr>\n",
              "    <tr>\n",
              "      <th>44</th>\n",
              "      <td>Willkommen</td>\n",
              "      <td>(415) 766-9225</td>\n",
              "    </tr>\n",
              "    <tr>\n",
              "      <th>45</th>\n",
              "      <td>Hook Fish</td>\n",
              "      <td>4542 Irving St</td>\n",
              "    </tr>\n",
              "    <tr>\n",
              "      <th>46</th>\n",
              "      <td>Nopalito</td>\n",
              "      <td>(415) 437-0303</td>\n",
              "    </tr>\n",
              "    <tr>\n",
              "      <th>47</th>\n",
              "      <td>Ragazza</td>\n",
              "      <td>(415) 255-1133</td>\n",
              "    </tr>\n",
              "    <tr>\n",
              "      <th>48</th>\n",
              "      <td>Beit Rima</td>\n",
              "      <td>(415) 566-1274</td>\n",
              "    </tr>\n",
              "    <tr>\n",
              "      <th>49</th>\n",
              "      <td>Vive La Tarte</td>\n",
              "      <td>(415) 780-5818</td>\n",
              "    </tr>\n",
              "  </tbody>\n",
              "</table>\n",
              "</div>"
            ],
            "text/plain": [
              "                     BusinessNames              Phone\n",
              "0                Marufuku Ramen SF     (415) 872-9786\n",
              "1   Farmhouse Kitchen Thai Cuisine     (415) 814-2920\n",
              "2                    Kitchen Story     (415) 525-4905\n",
              "3                              Ken  252 Divisadero St\n",
              "4            Fog Harbor Fish House     (415) 421-2442\n",
              "5                      Sweet Maple     (415) 655-9169\n",
              "6                        Starbelly     (415) 252-7500\n",
              "7                          Beretta     (415) 695-1199\n",
              "8                   Beretta Pop Up     (415) 654-5211\n",
              "9                        Tastebuds     (415) 668-9298\n",
              "10                       Tastebuds     (415) 668-9298\n",
              "11                        The Snug     (415) 562-5092\n",
              "12                           Zazie     (415) 564-5332\n",
              "13                        El Techo     (415) 550-6970\n",
              "14                        San Tung     (415) 242-0828\n",
              "15                        Santeria     (415) 757-0156\n",
              "16                            Nopa     (415) 864-8643\n",
              "17                         Hotbird     1355 Market St\n",
              "18                 The Front Porch     (415) 695-7800\n",
              "19                 Burma Superstar     (415) 387-2147\n",
              "20    Devil’s Teeth Baking Company     (415) 683-5533\n",
              "21           Brenda’s Meat & Three     (415) 926-8657\n",
              "22                        The Bird     (415) 872-9825\n",
              "23                 Foghorn Taproom     (415) 592-2341\n",
              "24                       Damn Fine      3410 Judah St\n",
              "25                    Horsefeather     (415) 817-1939\n",
              "26                          a Mano     (415) 506-7401\n",
              "27       Brenda’s French Soul Food     (415) 345-8100\n",
              "28             Che Fico Alimentari     (415) 416-6980\n",
              "29                       MaMa Ji’s     (415) 626-4416\n",
              "30                      DragonEats     (415) 522-6689\n",
              "31                          Mahila     (628) 867-3570\n",
              "32                        Konomama     (415) 933-6295\n",
              "33                          Souvla     (415) 400-5458\n",
              "34                           Um Ma     (415) 566-5777\n",
              "35                     Señor Sisig     (855) 747-4455\n",
              "36      Dumpling Baby China Bistro     (415) 592-8232\n",
              "37                   Blind Butcher     (415) 529-2478\n",
              "38           State Bird Provisions     (415) 795-1272\n",
              "39      Nara Restaurant & Sake Bar     (415) 638-6124\n",
              "40                            Gozu     (415) 523-9745\n",
              "41   Sotto Mare Oysteria & Seafood     (415) 398-3181\n",
              "42                 Tacos El Patrón     (415) 829-7315\n",
              "43                     Cha Cha Cha     (415) 386-7670\n",
              "44                      Willkommen     (415) 766-9225\n",
              "45                       Hook Fish     4542 Irving St\n",
              "46                        Nopalito     (415) 437-0303\n",
              "47                         Ragazza     (415) 255-1133\n",
              "48                       Beit Rima     (415) 566-1274\n",
              "49                   Vive La Tarte     (415) 780-5818"
            ]
          },
          "metadata": {
            "tags": []
          },
          "execution_count": 6
        }
      ]
    },
    {
      "cell_type": "code",
      "metadata": {
        "id": "QTa_1RUYbChi"
      },
      "source": [
        ""
      ],
      "execution_count": null,
      "outputs": []
    },
    {
      "cell_type": "code",
      "metadata": {
        "id": "OohLzF9zuEpM"
      },
      "source": [
        ""
      ],
      "execution_count": null,
      "outputs": []
    }
  ]
}